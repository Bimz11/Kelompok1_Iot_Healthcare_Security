{
  "cells": [
    {
      "cell_type": "markdown",
      "metadata": {
        "id": "8I3Mj1DOAK5y"
      },
      "source": [
        "# **IOT HEALTHCARE SECURITY**'\n",
        "# **KELOMPOK 3**\n",
        "---\n",
        "Anggota kelompok:\n",
        "\n",
        "-Hafiz Ardra Al kautsar (53114221048)\n",
        "\n",
        "-Fauz Firdaus (5311422109)\n",
        "\n",
        "-Abimanyu Rismandaru (5311422110)\n",
        "\n",
        "-Jevanca Anandi Fawaz Al fauzy (5311422111)\n",
        "\n",
        "-Zain Tenroaji Mahfudz Abubakar (5311422112)"
      ]
    },
    {
      "cell_type": "markdown",
      "metadata": {
        "id": "noTCDjQZACYo"
      },
      "source": [
        "# **Menyalin Ketiga Dataset**\n",
        "\n",
        "\n",
        "---\n",
        "\n",
        "Ketiga dataset tersebut ditempatkan dalam satu folder bernama ICUDatasetProcessed yang terdiri dari file csv Attack, Environment Monitoring, dan Patient Monitoring.\n",
        "\n"
      ]
    },
    {
      "cell_type": "code",
      "execution_count": null,
      "metadata": {
        "colab": {
          "base_uri": "https://localhost:8080/"
        },
        "id": "OfTAf-t-SEQv",
        "outputId": "6a7c6145-b5cf-45f6-d9b7-88d48378c985"
      },
      "outputs": [
        {
          "name": "stdout",
          "output_type": "stream",
          "text": [
            "cp: missing destination file operand after '/content/ICUDatasetProcessed'\n",
            "Try 'cp --help' for more information.\n"
          ]
        }
      ],
      "source": [
        "!cp -r /content/ICUDatasetProcessed"
      ]
    },
    {
      "cell_type": "markdown",
      "metadata": {
        "id": "GPrmz_LYCF4g"
      },
      "source": [
        "# **Import Library**"
      ]
    },
    {
      "cell_type": "code",
      "execution_count": null,
      "metadata": {
        "colab": {
          "background_save": true
        },
        "id": "WvIecbxjaHBu"
      },
      "outputs": [],
      "source": [
        "import numpy as np\n",
        "import pandas as pd\n",
        "import os\n",
        "from sklearn.model_selection import train_test_split\n"
      ]
    },
    {
      "cell_type": "markdown",
      "metadata": {
        "id": "F8m0x6xkC4Mi"
      },
      "source": [
        "# **Import file Environment Monitoring**\n",
        "\n",
        "\n",
        "---\n",
        "\n",
        "Mengimport file Environment Monitoring yang berada dalam folder ICU dataset Processed untuk mengetahui kolom apa saja yang ada di dalam dataframe."
      ]
    },
    {
      "cell_type": "code",
      "execution_count": null,
      "metadata": {
        "colab": {
          "base_uri": "https://localhost:8080/"
        },
        "id": "Iv_mbpOOaLo3",
        "outputId": "af71175d-28c3-417c-da2a-cfd2067113a5"
      },
      "outputs": [
        {
          "output_type": "execute_result",
          "data": {
            "text/plain": [
              "Index(['frame.time_delta', 'frame.time_relative', 'frame.len', 'ip.src',\n",
              "       'ip.dst', 'tcp.srcport', 'tcp.dstport', 'tcp.flags', 'tcp.time_delta',\n",
              "       'tcp.len', 'tcp.ack', 'tcp.connection.fin', 'tcp.connection.rst',\n",
              "       'tcp.connection.sack', 'tcp.connection.syn', 'tcp.flags.ack',\n",
              "       'tcp.flags.fin', 'tcp.flags.push', 'tcp.flags.reset', 'tcp.flags.syn',\n",
              "       'tcp.flags.urg', 'tcp.hdr_len', 'tcp.payload', 'tcp.pdu.size',\n",
              "       'tcp.window_size_value', 'tcp.checksum', 'mqtt.clientid',\n",
              "       'mqtt.clientid_len', 'mqtt.conack.flags', 'mqtt.conack.val',\n",
              "       'mqtt.conflag.passwd', 'mqtt.conflag.qos', 'mqtt.conflag.reserved',\n",
              "       'mqtt.conflag.retain', 'mqtt.conflag.willflag', 'mqtt.conflags',\n",
              "       'mqtt.dupflag', 'mqtt.hdrflags', 'mqtt.kalive', 'mqtt.len', 'mqtt.msg',\n",
              "       'mqtt.msgtype', 'mqtt.qos', 'mqtt.retain', 'mqtt.topic',\n",
              "       'mqtt.topic_len', 'mqtt.ver', 'mqtt.willmsg_len', 'ip.proto', 'ip.ttl',\n",
              "       'class', 'label'],\n",
              "      dtype='object')"
            ]
          },
          "metadata": {},
          "execution_count": 35
        }
      ],
      "source": [
        "df1 = pd.read_csv('/content/ICUDatasetProcessed/environmentMonitoring.csv')\n",
        "df1.columns"
      ]
    },
    {
      "cell_type": "markdown",
      "metadata": {
        "id": "FzNPUBF6EFy-"
      },
      "source": [
        "mengimpor modul `os` yang memungkinkan operasi sistem, kemudian menetapkan sebuah variabel `path` dengan nilai `ICUDatasetProcessed/`, dan mengambil daftar file dalam folder tersebut menggunakan fungsi `os.listdir(path)`. Variabel `csvs` kemudian akan berisi daftar file yang ada dalam direktori tersebut.\n",
        "\n"
      ]
    },
    {
      "cell_type": "code",
      "execution_count": null,
      "metadata": {
        "colab": {
          "base_uri": "https://localhost:8080/"
        },
        "id": "pwulRRx8aQ-t",
        "outputId": "b43d81b3-e6da-41af-a313-d5ea6a0cdd2e"
      },
      "outputs": [
        {
          "output_type": "execute_result",
          "data": {
            "text/plain": [
              "['patientMonitoring.csv', 'environmentMonitoring.csv', 'Attack.csv']"
            ]
          },
          "metadata": {},
          "execution_count": 36
        }
      ],
      "source": [
        "import os\n",
        "path = 'ICUDatasetProcessed/'\n",
        "csvs = os.listdir(path)\n",
        "csvs"
      ]
    },
    {
      "cell_type": "markdown",
      "metadata": {
        "id": "dr0b7DTeK5uk"
      },
      "source": [
        "Kode ini membaca serangkaian file CSV yang disimpan dalam variabel csvs, dan kemudian menggabungkan data dari setiap file ke dalam DataFrame tunggal yang disebut df1. kemudian stiap file dari dalam folder di cek untuk melihat jumlah baris dan kolomnya.\n"
      ]
    },
    {
      "cell_type": "code",
      "execution_count": null,
      "metadata": {
        "colab": {
          "base_uri": "https://localhost:8080/"
        },
        "id": "fpca2LKWaU4p",
        "outputId": "56e399fe-2583-4e93-b752-1709aa4866f6"
      },
      "outputs": [
        {
          "output_type": "stream",
          "name": "stdout",
          "text": [
            "---- Reading patientMonitoring.csv ----\n"
          ]
        },
        {
          "output_type": "stream",
          "name": "stderr",
          "text": [
            "<ipython-input-37-9b0f20655e43>:7: DtypeWarning: Columns (26,28,35) have mixed types. Specify dtype option on import or set low_memory=False.\n",
            "  df = pd.read_csv(path+csv)\n"
          ]
        },
        {
          "output_type": "stream",
          "name": "stdout",
          "text": [
            "df.shape: (76810, 52)\n",
            "empty_cols: 0\n",
            "[]\n"
          ]
        },
        {
          "output_type": "stream",
          "name": "stderr",
          "text": [
            "<ipython-input-37-9b0f20655e43>:13: FutureWarning: The frame.append method is deprecated and will be removed from pandas in a future version. Use pandas.concat instead.\n",
            "  df1 = df1.append(df, ignore_index=True)\n"
          ]
        },
        {
          "output_type": "stream",
          "name": "stdout",
          "text": [
            "df1.shape: (76810, 52)\n",
            "---- Reading environmentMonitoring.csv ----\n",
            "df.shape: (31758, 52)\n",
            "empty_cols: 0\n",
            "[]\n",
            "df1.shape: (108568, 52)\n",
            "---- Reading Attack.csv ----\n"
          ]
        },
        {
          "output_type": "stream",
          "name": "stderr",
          "text": [
            "<ipython-input-37-9b0f20655e43>:13: FutureWarning: The frame.append method is deprecated and will be removed from pandas in a future version. Use pandas.concat instead.\n",
            "  df1 = df1.append(df, ignore_index=True)\n",
            "<ipython-input-37-9b0f20655e43>:7: DtypeWarning: Columns (26,28,35) have mixed types. Specify dtype option on import or set low_memory=False.\n",
            "  df = pd.read_csv(path+csv)\n"
          ]
        },
        {
          "output_type": "stream",
          "name": "stdout",
          "text": [
            "df.shape: (80126, 52)\n",
            "empty_cols: 0\n",
            "[]\n",
            "df1.shape: (188694, 52)\n"
          ]
        },
        {
          "output_type": "stream",
          "name": "stderr",
          "text": [
            "<ipython-input-37-9b0f20655e43>:13: FutureWarning: The frame.append method is deprecated and will be removed from pandas in a future version. Use pandas.concat instead.\n",
            "  df1 = df1.append(df, ignore_index=True)\n"
          ]
        }
      ],
      "source": [
        "import pandas as pd\n",
        "\n",
        "df1 = pd.DataFrame()\n",
        "\n",
        "for csv in csvs:\n",
        "  print(f'---- Reading {csv} ----')\n",
        "  df = pd.read_csv(path+csv)\n",
        "  print(f'df.shape: {df.shape}')\n",
        "  empty_cols = [col for col in df.columns if df[col].isnull().all()]\n",
        "  print(f'empty_cols: {len(empty_cols)}')\n",
        "  print(empty_cols)\n",
        "  df.fillna(0, inplace=True)\n",
        "  df1 = df1.append(df, ignore_index=True)\n",
        "  print(f'df1.shape: {df1.shape}')\n"
      ]
    },
    {
      "cell_type": "markdown",
      "metadata": {
        "id": "4ekZvnCdLS6E"
      },
      "source": [
        "# **Pengelompokkan Fitur**\n",
        "Mengelompokkan fitur dari dalam dataframe dengan nama 'feats'."
      ]
    },
    {
      "cell_type": "code",
      "execution_count": null,
      "metadata": {
        "id": "AyIlZrM5aZiN"
      },
      "outputs": [],
      "source": [
        "feats = ['ip.src', 'ip.dst', 'tcp.srcport', 'tcp.dstport','mqtt.topic', 'mqtt.msg', 'tcp.payload','mqtt.clientid', 'mqtt.conflags', 'mqtt.conack.flags', 'class']\n"
      ]
    },
    {
      "cell_type": "markdown",
      "metadata": {
        "id": "vXSE3yPYLrB0"
      },
      "source": [
        "Menghapus beberapa fitur dari dataframe df1. Fitur yang dihapus dimuat dalam 'feats'. Kemudian sisa dari baris dan kolom yang ada dalam dataframe akan ditampilkan."
      ]
    },
    {
      "cell_type": "code",
      "execution_count": null,
      "metadata": {
        "colab": {
          "base_uri": "https://localhost:8080/"
        },
        "id": "QVqQWIxGacLL",
        "outputId": "90c2b57a-5874-45f7-a3ee-199565ec8dea"
      },
      "outputs": [
        {
          "data": {
            "text/plain": [
              "(188694, 41)"
            ]
          },
          "execution_count": 14,
          "metadata": {},
          "output_type": "execute_result"
        }
      ],
      "source": [
        "df1.drop(labels=feats, axis=1, inplace=True)\n",
        "df1.shape\n"
      ]
    },
    {
      "cell_type": "markdown",
      "metadata": {
        "id": "1PDcZgV4L71R"
      },
      "source": [
        "Mengelompokkan fitur atau kolom yang berada di dalam dataframe menjadi dua jenis yaitu, fs1 dan fs2 untuk memudahkan dalam memproses ataupun menganalisis"
      ]
    },
    {
      "cell_type": "code",
      "execution_count": null,
      "metadata": {
        "id": "ZkSeWAs-afUz"
      },
      "outputs": [],
      "source": [
        "fs1 =  ['frame.time_delta', 'tcp.flags', 'tcp.time_delta', 'tcp.connection.rst', 'tcp.flags.ack', 'tcp.flags.push', 'tcp.flags.reset', 'tcp.hdr_len',\n",
        "        'mqtt.clientid_len', 'mqtt.hdrflags', 'mqtt.msgtype', 'mqtt.qos', 'mqtt.ver', 'ip.proto', 'ip.ttl', 'label']\n",
        "fs2 = ['frame.time_delta', 'tcp.time_delta', 'tcp.flags.ack', 'tcp.flags.push', 'tcp.flags.reset', 'mqtt.hdrflags', 'mqtt.msgtype', 'mqtt.qos', 'mqtt.retain', 'mqtt.ver', 'label']\n"
      ]
    },
    {
      "cell_type": "markdown",
      "metadata": {
        "id": "P2fBaSLEML8k"
      },
      "source": [
        "Dengan menggunakan df1[fs2], kolom-kolom yang ada dalam daftar fs2 dari DataFrame df1 dipilih. Kemudian, df1.shape digunakan untuk mencetak dimensi DataFrame df1 setelah pemilihan kolom dilakukan. Jadi, df1 sekarang berisi hanya kolom-kolom yang sesuai dengan daftar fs2, dan df1.shape mencetak jumlah baris dan kolom dalam DataFrame yang telah dipilih tersebut."
      ]
    },
    {
      "cell_type": "code",
      "execution_count": null,
      "metadata": {
        "colab": {
          "base_uri": "https://localhost:8080/"
        },
        "id": "LnJdgF4dah25",
        "outputId": "b9188372-6e75-4f94-ece0-2e1e1af10c60"
      },
      "outputs": [
        {
          "data": {
            "text/plain": [
              "(188694, 11)"
            ]
          },
          "execution_count": 16,
          "metadata": {},
          "output_type": "execute_result"
        }
      ],
      "source": [
        "df1 = df1[fs2]\n",
        "df1.shape"
      ]
    },
    {
      "cell_type": "markdown",
      "metadata": {
        "id": "jJShkhbPNHsu"
      },
      "source": [
        " menghitung jumlah kemunculan setiap nilai yang terdapat dalam kolom 'label' dari DataFrame df1."
      ]
    },
    {
      "cell_type": "code",
      "execution_count": null,
      "metadata": {
        "colab": {
          "base_uri": "https://localhost:8080/"
        },
        "id": "biSSmc-RakUp",
        "outputId": "7f311714-365f-46f4-a00e-33d9e78d95a1"
      },
      "outputs": [
        {
          "data": {
            "text/plain": [
              "0    108568\n",
              "1     80126\n",
              "Name: label, dtype: int64"
            ]
          },
          "execution_count": 17,
          "metadata": {},
          "output_type": "execute_result"
        }
      ],
      "source": [
        "df1['label'].value_counts()"
      ]
    },
    {
      "cell_type": "markdown",
      "metadata": {
        "id": "H-0kYFZmNQE7"
      },
      "source": [
        "# **Preprocessing**\n",
        "\n",
        "\n",
        "---\n",
        "Mengubah atau mengkonvert bilangan tipe lain menjadi bilangan numerik dari 'label encoder' dengan metode fit_transform.\n"
      ]
    },
    {
      "cell_type": "code",
      "execution_count": null,
      "metadata": {
        "id": "FTWkYHeSapGj"
      },
      "outputs": [],
      "source": [
        "from sklearn import preprocessing\n",
        "label_encoder = preprocessing.LabelEncoder()\n",
        "\n",
        "#df1['tcp.flags']= label_encoder.fit_transform(df1['tcp.flags'])\n",
        "#df1['tcp.checksum']= label_encoder.fit_transform(df1['tcp.checksum'])\n",
        "df1['mqtt.hdrflags']= label_encoder.fit_transform(df1['mqtt.hdrflags'])\n"
      ]
    },
    {
      "cell_type": "markdown",
      "metadata": {
        "id": "tfal_7LRNn6I"
      },
      "source": [
        "Membagi dataset menjadi dua tipe yaitu, data train dan data set. Kolom yang tidak digunakan adalah kolom 'label'. Kemudian, hanya 30% dari dataset"
      ]
    },
    {
      "cell_type": "code",
      "execution_count": null,
      "metadata": {
        "id": "wiGNAIzDasyo"
      },
      "outputs": [],
      "source": [
        "X_train, X_test, y_train, y_test = train_test_split( df1.drop(labels=['label'], axis=1), df1['label'],\n",
        "                                                                            test_size=0.3, random_state=100)"
      ]
    },
    {
      "cell_type": "markdown",
      "metadata": {
        "id": "m1METa_LN2cm"
      },
      "source": [
        "Hasilnya adalah empat variabel:\n",
        "\n",
        "1. X_train: akan digunakan untuk pelatihan model.\n",
        "2. X_test: akan digunakan untuk menguji model.\n",
        "3. y_train: Subset label yang sesuai dengan X_train, yang akan digunakan untuk melatih model.\n",
        "4. y_test: Subset label yang sesuai dengan X_test, yang akan digunakan untuk mengevaluasi model."
      ]
    },
    {
      "cell_type": "markdown",
      "metadata": {
        "id": "o7A2e7IMOt-W"
      },
      "source": [
        "# **Logistic Regression**\n",
        "\n",
        "\n",
        "---\n",
        "\n",
        "melakukan seleksi fitur berdasarkan model yang digunakan untuk klasifikasi. Pengklasifikasian ini menggunakan data train dan data test. Ini memungkinan Logistic Regression untuk melatih dirinya sendiri sekaligus melakukan seleksi fitur. Setelah proses seleksi selesai, daftar boolean akan muncul yang menunjukkan fitur mana yang telah dipilih. Jumlah fitur yang terpilih dan daftar fitur-fitur yang terpilih kemudian dicetak untuk memberikan pemahaman tentang fitur-fitur yang relevan yang telah dipilih untuk digunakan dalam model klasifikasi decision tree dan ANN."
      ]
    },
    {
      "cell_type": "code",
      "execution_count": null,
      "metadata": {
        "colab": {
          "base_uri": "https://localhost:8080/"
        },
        "id": "nD2V7mQ1av28",
        "outputId": "80d1eafd-03e3-4cfb-af9f-f8d804d2d1b8"
      },
      "outputs": [
        {
          "name": "stdout",
          "output_type": "stream",
          "text": [
            "---------- SelectFromModel LogisticRegression -----------\n",
            "embeded_LR_support [False  True  True  True False False False  True  True False]\n",
            "5 selected features\n",
            "embeded_LR_features:  ['tcp.time_delta', 'tcp.flags.ack', 'tcp.flags.push', 'mqtt.qos', 'mqtt.retain']\n"
          ]
        }
      ],
      "source": [
        "from sklearn.feature_selection import SelectFromModel\n",
        "from sklearn.linear_model import LogisticRegression\n",
        "\n",
        "print('---------- SelectFromModel LogisticRegression -----------')\n",
        "embeded_LR_selector = SelectFromModel(LogisticRegression(penalty=\"l1\", solver='liblinear'), threshold='0.9*median',\n",
        "                                      max_features = 10)\n",
        "embeded_LR_selector.fit(X_train, y_train)\n",
        "embeded_LR_support = embeded_LR_selector.get_support()\n",
        "print('embeded_LR_support',embeded_LR_support)\n",
        "#embeded_lr_selector = embeded_lr_selector.scores_\n",
        "#embeded_lr_support = embeded_lr_selector.get_support()\n",
        "#embeded_LR_feature = df.loc[:,embeded_LR_support].columns.tolist()\n",
        "\n",
        "embeded_LR_feature = X_train.loc[:,embeded_LR_support].columns.tolist()\n",
        "\n",
        "print(len(embeded_LR_feature), 'selected features')\n",
        "print('embeded_LR_features: ', embeded_LR_feature)"
      ]
    },
    {
      "cell_type": "markdown",
      "metadata": {
        "id": "fB2Nnrp6QR7k"
      },
      "source": [
        "Mengelompokkan fitur atau kolom yang berada di dalam dataframe menjadi dua jenis yaitu, fs1 dan fs2 untuk memudahkan dalam memproses ataupun menganalisis"
      ]
    },
    {
      "cell_type": "code",
      "execution_count": null,
      "metadata": {
        "id": "Ezxej1bKbJsn"
      },
      "outputs": [],
      "source": [
        "fs1 =  ['frame.time_delta', 'tcp.flags', 'tcp.time_delta', 'tcp.connection.rst', 'tcp.flags.ack', 'tcp.flags.push', 'tcp.flags.reset', 'tcp.hdr_len', 'mqtt.clientid_len', 'mqtt.hdrflags', 'mqtt.msgtype', 'mqtt.qos', 'mqtt.ver', 'ip.proto', 'ip.ttl']\n",
        "fs2 = ['frame.time_delta', 'tcp.time_delta', 'tcp.flags.ack', 'tcp.flags.push', 'tcp.flags.reset', 'mqtt.hdrflags', 'mqtt.msgtype', 'mqtt.qos', 'mqtt.retain', 'mqtt.ver']\n"
      ]
    },
    {
      "cell_type": "markdown",
      "metadata": {
        "id": "UZ7sbFxdQzNZ"
      },
      "source": [
        "# **Import Library untuk Metode**\n",
        "\n",
        "\n",
        "---\n",
        "\n",
        "Mengimport library untuk beberapa metode seperti GaussianNB, Adaboost, Decision tree, dan Artificiall Neural Network (ANN)"
      ]
    },
    {
      "cell_type": "code",
      "execution_count": null,
      "metadata": {
        "id": "Vnd9QcOMbM1D"
      },
      "outputs": [],
      "source": [
        "from sklearn.naive_bayes import GaussianNB\n",
        "from sklearn.ensemble import  AdaBoostClassifier\n",
        "from sklearn.tree import DecisionTreeClassifier\n",
        "from sklearn.svm import SVC   #SVM\n",
        "\n",
        "from sklearn.metrics import confusion_matrix\n",
        "from sklearn.metrics import precision_score, recall_score, f1_score, accuracy_score\n",
        "from sklearn.metrics import classification_report"
      ]
    },
    {
      "cell_type": "markdown",
      "metadata": {
        "id": "zTRxtyd_8jpK"
      },
      "source": [
        "# **METODE MACHINE LEARNING**\n",
        "\n",
        "\n",
        "---\n",
        "Kami menggunakan 4 metode antara lain:\n",
        "1. GaussianNB\n",
        "2. Adaboost\n",
        "3. Decision Tree\n",
        "4. Artificial Neural Network (ANN)\n",
        "\n",
        "Kode di bawah menerapkan beberapa model klasifikasi pada data yang telah dipisahkan menjadi data train (X_train dan y_train) dan data set(X_test)."
      ]
    },
    {
      "cell_type": "code",
      "execution_count": null,
      "metadata": {
        "colab": {
          "base_uri": "https://localhost:8080/"
        },
        "id": "Eo8FaSLAbWR0",
        "outputId": "9dcacc53-d6c0-4bd0-a350-225c66a5ce49"
      },
      "outputs": [
        {
          "name": "stdout",
          "output_type": "stream",
          "text": [
            "--------Applying GaussianNB Classifier ----------\n",
            "--------Applying AdaBoostClassifier Classifier ----------\n",
            "--------Applying DecisionTree Classifier ----------\n",
            "--------Applying Artificial Neural Network Classifier ----------\n"
          ]
        },
        {
          "name": "stderr",
          "output_type": "stream",
          "text": [
            "/usr/local/lib/python3.10/dist-packages/sklearn/neural_network/_multilayer_perceptron.py:541: ConvergenceWarning: lbfgs failed to converge (status=1):\n",
            "STOP: TOTAL NO. of ITERATIONS REACHED LIMIT.\n",
            "\n",
            "Increase the number of iterations (max_iter) or scale the data as shown in:\n",
            "    https://scikit-learn.org/stable/modules/preprocessing.html\n",
            "  self.n_iter_ = _check_optimize_result(\"lbfgs\", opt_res, self.max_iter)\n"
          ]
        }
      ],
      "source": [
        "print('--------Applying GaussianNB Classifier ----------')\n",
        "gnb = GaussianNB()\n",
        "gnb_fit = gnb.fit(X_train, y_train)\n",
        "gnb_prediction = gnb.predict(X_test)\n",
        "\n",
        "\n",
        "print('--------Applying AdaBoostClassifier Classifier ----------')\n",
        "AB = AdaBoostClassifier()\n",
        "AB.fit(X_train, y_train)\n",
        "AB_prediction = AB.predict(X_test)\n",
        "\n",
        "\n",
        "print('--------Applying DecisionTree Classifier ----------')\n",
        "DT = DecisionTreeClassifier(criterion = \"gini\", random_state = 100, max_depth=10, min_samples_leaf=5)\n",
        "DT.fit(X_train, y_train)\n",
        "DT_prediction = DT.predict(X_test)\n",
        "\n",
        "from sklearn.neural_network import MLPClassifier\n",
        "\n",
        "print('--------Applying Artificial Neural Network Classifier ----------')\n",
        "ann_classifier = MLPClassifier(solver='lbfgs', alpha=0.01, hidden_layer_sizes=(100,), random_state=1)\n",
        "ann_classifier.fit(X_train, y_train)\n",
        "ann_prediction = ann_classifier.predict(X_test)"
      ]
    },
    {
      "cell_type": "markdown",
      "metadata": {
        "id": "M_YbIRhWVQsr"
      },
      "source": [
        "# **Classification Performance**\n",
        "\n",
        "\n",
        "---\n",
        "\n",
        "Program ini untuk melakukan evaluasi kinerja beberapa model klasifikasi menggunakan berbagai metrik\n",
        "seperti akurasi, presisi, recall, dan F1-score. Tujuan utama dari program ini adalah untuk membandingkan kinerja beberapa model klasifikasi yang telah dilatih pada data uji\n",
        "yang telah dipersiapkan sebelumnya,  program juga mencetak hasil evaluasi performa model dalam bentuk dataframe."
      ]
    },
    {
      "cell_type": "code",
      "execution_count": null,
      "metadata": {
        "colab": {
          "base_uri": "https://localhost:8080/"
        },
        "id": "SGd4Od_3cTzd",
        "outputId": "08852b05-7e83-43b7-8abd-18cc65b17605"
      },
      "outputs": [
        {
          "name": "stdout",
          "output_type": "stream",
          "text": [
            "-------Classification Performance----------\n",
            "type(results):  <class 'list'>\n",
            "results:  [('LR', '', '', '', ''), ('Classifier', 'Accurary', 'Precision', 'Recall', 'F1-Score'), ('NB ', 79.5120917168648, 99.76203696359165, 52.08945951542763, 68.44253373966043), ('AB ', 99.50007949266018, 99.50211600697038, 99.32491199006004, 99.41343503222998), ('DT ', 99.69086187708668, 99.81296758104739, 99.46158624974115, 99.63696711959341), ('ann ', 99.69086187708668, 99.81296758104739, 99.46158624974115, 99.63696711959341)]\n",
            "type(df_results):  <class 'pandas.core.frame.DataFrame'>\n",
            "df_results:              0          1          2          3          4\n",
            "0          LR                                            \n",
            "1  Classifier   Accurary  Precision     Recall   F1-Score\n",
            "2         NB   79.512092  99.762037   52.08946  68.442534\n",
            "3         AB   99.500079  99.502116  99.324912  99.413435\n",
            "4         DT   99.690862  99.812968  99.461586  99.636967\n",
            "5        ann   99.690862  99.812968  99.461586  99.636967\n"
          ]
        }
      ],
      "source": [
        "print('-------Classification Performance----------')\n",
        "#precision_score, recall_score, f1_score, accuracy_score\n",
        "results = []\n",
        "selector = 'LR'\n",
        "results.append((selector,'','', '',''))\n",
        "results.append(('Classifier','Accurary','Precision', 'Recall','F1-Score'))\n",
        "results.append(('NB ', accuracy_score(y_test,  gnb_prediction)*100,\n",
        "                precision_score(y_test,  gnb_prediction)*100,\n",
        "                recall_score(y_test,  gnb_prediction)*100,\n",
        "                f1_score(y_test,  gnb_prediction)*100))\n",
        "results.append(('AB ', accuracy_score(y_test,  AB_prediction)*100,\n",
        "                precision_score(y_test,  AB_prediction)*100,\n",
        "                recall_score(y_test,  AB_prediction)*100,\n",
        "                f1_score(y_test,  AB_prediction)*100))\n",
        "results.append(('DT ', accuracy_score(y_test,  DT_prediction)*100,\n",
        "                precision_score(y_test,  DT_prediction)*100,\n",
        "                recall_score(y_test,  DT_prediction)*100,\n",
        "                f1_score(y_test,  DT_prediction)*100))\n",
        "results.append(('ann ', accuracy_score(y_test,  DT_prediction)*100,\n",
        "                precision_score(y_test,  DT_prediction)*100,\n",
        "                recall_score(y_test,  DT_prediction)*100,\n",
        "                f1_score(y_test,  DT_prediction)*100))\n",
        "\n",
        "print('type(results): ', type(results))\n",
        "print('results: ', results)\n",
        "df_results = pd.DataFrame(results)\n",
        "print('type(df_results): ', type(df_results))\n",
        "print('df_results: ', df_results)"
      ]
    },
    {
      "cell_type": "markdown",
      "metadata": {
        "id": "MV__U-5EW0dL"
      },
      "source": [
        "# **Confusion Matrix**\n",
        "\n",
        "\n",
        "---\n",
        "Tujuan dari program ini adalah untuk memberikan pemahaman yang lebih baik tentang seberapa baik model-model tersebut dalam melakukan klasifikasi pada data uji yang tidak terlihat sebelumnya. Confusion matrix adalah alat evaluasi yang berguna dalam mengevaluasi kinerja model klasifikasi dengan membandingkan hasil prediksi model dengan nilai sebenarnya dari target klasifikasi.\n",
        "\n"
      ]
    },
    {
      "cell_type": "code",
      "execution_count": null,
      "metadata": {
        "colab": {
          "base_uri": "https://localhost:8080/"
        },
        "id": "Vc8gNTDkcpHo",
        "outputId": "8667ee75-2c9e-4006-ccdd-daa64c0c6224"
      },
      "outputs": [
        {
          "name": "stdout",
          "output_type": "stream",
          "text": [
            "Confusion Matrix gnb_prediction\n",
            "[[32434    30]\n",
            " [11568 12577]]\n",
            "Confusion Matrix AB_prediction\n",
            "[[32344   120]\n",
            " [  163 23982]]\n",
            "Confusion Matrix DT_prediction\n",
            "[[32419    45]\n",
            " [  130 24015]]\n",
            "Confusion Matrix ann_prediction\n",
            "[[30046  2418]\n",
            " [  147 23998]]\n"
          ]
        }
      ],
      "source": [
        "print('Confusion Matrix gnb_prediction')\n",
        "print(confusion_matrix(y_test,gnb_prediction))\n",
        "print('Confusion Matrix AB_prediction')\n",
        "print(confusion_matrix(y_test,AB_prediction))\n",
        "print('Confusion Matrix DT_prediction')\n",
        "print(confusion_matrix(y_test,DT_prediction))\n",
        "print('Confusion Matrix ann_prediction')\n",
        "print(confusion_matrix(y_test,ann_prediction))\n"
      ]
    },
    {
      "cell_type": "markdown",
      "metadata": {
        "id": "R7tNO1fRH5IK"
      },
      "source": [
        "# **Mengubah hasil Confussion Matrix dalam bentuk Label**"
      ]
    },
    {
      "cell_type": "markdown",
      "metadata": {
        "id": "8ELp-aG1JfRh"
      },
      "source": [
        "Program di bawah berfungsi untuk membuat visualisasi Confusion Matrix untuk beberapa model klasifikasi yang telah dilatih dalam bentuk Label. Tujuan dari program ini adalah untuk membantu mempermudah pemahaman performa model klasifikasi dengan cara memvisualisasikan seberapa baik model tersebut dalam memprediksi kelas yang benar."
      ]
    },
    {
      "cell_type": "code",
      "execution_count": null,
      "metadata": {
        "colab": {
          "base_uri": "https://localhost:8080/",
          "height": 1000
        },
        "id": "umqKnxwzepJ_",
        "outputId": "0ab5b8af-0735-45b5-ac21-f82d3938fc91"
      },
      "outputs": [
        {
          "data": {
            "image/png": "[encoded data removed]",
            "text/plain": [
              "<Figure size 800x600 with 2 Axes>"
            ]
          },
          "metadata": {},
          "output_type": "display_data"
        },
        {
          "data": {
            "image/png": "[encoded data removed]",
            "text/plain": [
              "<Figure size 800x600 with 2 Axes>"
            ]
          },
          "metadata": {},
          "output_type": "display_data"
        },
        {
          "data": {
            "image/png": "[encoded data removed]",
            "text/plain": [
              "<Figure size 800x600 with 2 Axes>"
            ]
          },
          "metadata": {},
          "output_type": "display_data"
        },
        {
          "data": {
            "image/png": "[encoded data removed]",
            "text/plain": [
              "<Figure size 800x600 with 2 Axes>"
            ]
          },
          "metadata": {},
          "output_type": "display_data"
        }
      ],
      "source": [
        "import matplotlib.pyplot as plt\n",
        "import numpy as np\n",
        "\n",
        "# Define class labels (assuming you have two classes)\n",
        "class_labels = [\"Class 1\", \"Class 2\"]\n",
        "\n",
        "# Function to plot a confusion matrix with additional formatting\n",
        "def plot_confusion_matrix(cm, model_name, figsize=(8, 6)):\n",
        "    plt.figure(figsize=figsize)\n",
        "    cmap = plt.cm.Blues\n",
        "\n",
        "    # Normalize the confusion matrix for better visualization\n",
        "    cm = cm.astype('float') / cm.sum(axis=1)[:, np.newaxis]\n",
        "\n",
        "    im = plt.imshow(cm, interpolation='nearest', cmap=cmap)\n",
        "    plt.colorbar(im, fraction=0.02, pad=0.05)\n",
        "\n",
        "    plt.xticks(np.arange(len(class_labels)), class_labels, rotation=45, ha='right')\n",
        "    plt.yticks(np.arange(len(class_labels)), class_labels)\n",
        "\n",
        "    # Annotate entries with counts and percentages (rounded to one decimal)\n",
        "    for i in range(len(cm)):\n",
        "        for j in range(len(cm[0])):\n",
        "            text = f\"{cm[i, j]:.1f} ({cm[i, j]*100:.1f}%)\"\n",
        "            plt.text(j, i, text, ha=\"center\", va=\"center\", fontsize=8)\n",
        "\n",
        "    plt.xlabel('Predicted Label')\n",
        "    plt.ylabel('True Label')\n",
        "    plt.title(f'Confusion Matrix for {model_name}')\n",
        "    plt.grid(False)\n",
        "    plt.tight_layout()\n",
        "    plt.show()\n",
        "\n",
        "# Extract data from confusion matrices (assuming they are NumPy arrays)\n",
        "gnb_cm = np.array([[32434, 30], [11568, 12577]])\n",
        "knn_cm = np.array([[32375, 89], [114, 24031]])\n",
        "rf_cm = np.array([[32412, 52], [119, 24026]])\n",
        "ab_cm = np.array([[32344, 120], [163, 23982]])\n",
        "logreg_cm = np.array([[29919, 2545], [127, 24018]])\n",
        "dt_cm = np.array([[32419, 45], [130, 24015]])\n",
        "ann_cm = np.array([[30046, 2418], [147, 23998]])\n",
        "# Create and display confusion matrix plots for each model\n",
        "plot_confusion_matrix(gnb_cm, \"GNB\")\n",
        "plot_confusion_matrix(ab_cm, \"AdaBoost\")\n",
        "plot_confusion_matrix(dt_cm, \"Decision Tree\")\n",
        "plot_confusion_matrix(ann_cm, \"ANN\")"
      ]
    },
    {
      "cell_type": "markdown",
      "metadata": {
        "id": "jB-PO2XpFC9p"
      },
      "source": [
        "# **Menghitung dan Mencetak Loss Performance*"
      ]
    },
    {
      "cell_type": "markdown",
      "metadata": {
        "id": "St3NKOXkFfW0"
      },
      "source": [
        "program dibawah untuk menghitung tingkat kerugian (Loss) untuk setiap model klasifikasi yang telah diprediksi sebelumnya, seperti Gaussian Naive Bayes (GNB), AdaBoost (AB), Decision Tree (DT), dan Artificial Neural Network (ANN).\n",
        "\n",
        "Tujuan dari program ini adalah untuk memberikan informasi tentang seberapa efektif setiap model klasifikasi dalam melakukan prediksi."
      ]
    },
    {
      "cell_type": "code",
      "execution_count": null,
      "metadata": {
        "colab": {
          "base_uri": "https://localhost:8080/"
        },
        "id": "IZKXcIzohDro",
        "outputId": "26c4ce28-a6ab-4f76-c550-e538067155a1"
      },
      "outputs": [
        {
          "name": "stdout",
          "output_type": "stream",
          "text": [
            "Loss (Misclassification Rate):\n",
            "GNB: 0.9999\n",
            "AdaBoost: 1.0000\n",
            "Decision Tree: 1.0000\n",
            "ANN: 1.0000\n"
          ]
        }
      ],
      "source": [
        "def calculate_loss(confusion_matrix):\n",
        "  \"\"\"\n",
        "  Calculates the classification loss (misclassification rate)\n",
        "  from a confusion matrix.\n",
        "\n",
        "  Args:\n",
        "      confusion_matrix (numpy.ndarray): A 2D array representing the confusion matrix.\n",
        "\n",
        "  Returns:\n",
        "      float: The classification loss (misclassification rate).\n",
        "  \"\"\"\n",
        "\n",
        "  # Extract the total number of predictions\n",
        "  total_predictions = np.sum(confusion_matrix)\n",
        "\n",
        "  # Calculate the number of incorrect predictions\n",
        "  incorrect_predictions = np.sum(confusion_matrix.flatten()[:-1])  # Exclude true negatives\n",
        "\n",
        "  # Calculate the loss (misclassification rate)\n",
        "  loss = incorrect_predictions / total_predictions\n",
        "\n",
        "  return loss\n",
        "\n",
        "# Calculate loss for each confusion matrix\n",
        "gnb_loss = calculate_loss(gnb_prediction)\n",
        "ab_loss = calculate_loss(AB_prediction)\n",
        "dt_loss = calculate_loss(DT_prediction)\n",
        "ann_loss = calculate_loss(ann_prediction)\n",
        "\n",
        "# Print the results\n",
        "print(\"Loss (Misclassification Rate):\")\n",
        "print(f\"GNB: {gnb_loss:.4f}\")\n",
        "print(f\"AdaBoost: {ab_loss:.4f}\")\n",
        "print(f\"Decision Tree: {dt_loss:.4f}\")\n",
        "print(f\"ANN: {ann_loss:.4f}\")"
      ]
    }
  ],
  "metadata": {
    "colab": {
      "provenance": [],
      "collapsed_sections": [
        "F8m0x6xkC4Mi",
        "4ekZvnCdLS6E",
        "H-0kYFZmNQE7",
        "o7A2e7IMOt-W",
        "UZ7sbFxdQzNZ",
        "zTRxtyd_8jpK",
        "MV__U-5EW0dL",
        "R7tNO1fRH5IK"
      ]
    },
    "kernelspec": {
      "display_name": "Python 3",
      "name": "python3"
    },
    "language_info": {
      "name": "python"
    }
  },
  "nbformat": 4,
  "nbformat_minor": 0
}